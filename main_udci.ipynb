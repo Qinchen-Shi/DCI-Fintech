{
 "cells": [
  {
   "cell_type": "code",
   "execution_count": null,
   "metadata": {},
   "outputs": [],
   "source": [
    "import argparse\n",
    "import torch\n",
    "import torch.nn as nn\n",
    "import numpy as np\n",
    "from sklearn.cluster import KMeans\n",
    "import torch.optim as optim\n",
    "from sklearn import metrics\n",
    "from tqdm import tqdm\n",
    "\n",
    "from util import load_data, load_graph\n",
    "from models.udci import U_DCI\n",
    "from models.clf_model import Classifier"
   ]
  },
  {
   "cell_type": "code",
   "execution_count": null,
   "metadata": {},
   "outputs": [],
   "source": [
    "def setup_seed(seed):\n",
    "    np.random.seed(seed)\n",
    "    torch.manual_seed(seed)\n",
    "    torch.cuda.manual_seed_all(seed)\n",
    "    torch.backends.cudnn.deterministic = True\n",
    "    torch.backends.cudnn.benchmark = True\n"
   ]
  },
  {
   "cell_type": "code",
   "execution_count": null,
   "metadata": {},
   "outputs": [],
   "source": [
    "def finetune(args, model_pretrain, device, test_graph, feats_num):\n",
    "    model = Classifier(args.num_layers, args.num_mlp_layers, feats_num, args.hidden_dim, args.final_dropout, args.neighbor_pooling_type, device).to(device)\n",
    "    \n",
    "    # replace the encoder in joint model with the pre-trained encoder，把外面训练好的CDI导进来，这个视角encoder吗\n",
    "    pretrained_dict = model_pretrain.state_dict()   # state_dict()是pytorch里调用所有参数信息的函数，这里是把DCI的参数信息存起来\n",
    "    model_dict = model.state_dict() #这里就是吧Classifier的参数信息存起来\n",
    "    pretrained_dict =  {k: v for k, v in pretrained_dict.items() if k in model_dict}    # 只留下Classifier里有的字段的DCI的参数信息，为了防止下一步错叭\n",
    "    model_dict.update(pretrained_dict)  # 这两步就是把Classifier的参数信息更新成DCI的参数信息\n",
    "    model.load_state_dict(model_dict)\n",
    "\n",
    "    optimizer = optim.Adam(model.parameters(), lr=args.lr)  # 优化器的意思应该是反向传播的那个，不要纠结细节上次学过了虽然我知道你忘了\n",
    "    \n",
    "    criterion_tune = nn.BCEWithLogitsLoss() # 二分类的交叉熵损失函数\n",
    "\n",
    "    res = []\n",
    "    train_idx = test_graph[2]\n",
    "    node_train = test_graph[-1][train_idx, 0].astype('int')\n",
    "    label_train = torch.FloatTensor(test_graph[-1][train_idx, 1]).to(device)\n",
    "    for _ in range(1, args.finetune_epochs+1):  # 这一段应该就是在训练\n",
    "        model.train()\n",
    "        output = model(test_graph[0], test_graph[1])\n",
    "        loss = criterion_tune(output[node_train], torch.reshape(label_train, (-1, 1)))\n",
    "        \n",
    "        #backprop\n",
    "        if optimizer is not None:\n",
    "            optimizer.zero_grad()\n",
    "            loss.backward()\n",
    "            optimizer.step()\n",
    "        \n",
    "        # testing\n",
    "        model.eval()    # 设成eval模式\n",
    "        auc = evaluate(model, test_graph)\n",
    "        res.append(auc)\n",
    "\n",
    "    return np.max(res)  # 返回最大的auc"
   ]
  },
  {
   "cell_type": "code",
   "execution_count": 1,
   "metadata": {},
   "outputs": [],
   "source": [
    "def evaluate(model, test_graph):\n",
    "    output = model(test_graph[0], test_graph[1])    #预测结果，其中0和1分别是adj和features，顺序记得确认一下\n",
    "    pred = sig(output.detach().cpu())   # 用激活函数压缩一下然后结果传到cpu上\n",
    "    test_idx = test_graph[3]    # 这个idx具体指什么要看model，我猜是abnormal data的idx\n",
    "    \n",
    "    labels = test_graph[-1] # 那么labels我猜就是abnormal data的label\n",
    "    pred = pred[labels[test_idx, 0].astype('int')].numpy()  # 不知道了这里回头再来看吧\n",
    "    target = labels[test_idx, 1]\n",
    "    \n",
    "    false_positive_rate, true_positive_rate, _ = metrics.roc_curve(target, pred, pos_label=1)\n",
    "    auc = metrics.auc(false_positive_rate, true_positive_rate)  # auc越接近1越好\n",
    "\n",
    "    return auc"
   ]
  },
  {
   "cell_type": "code",
   "execution_count": null,
   "metadata": {},
   "outputs": [],
   "source": [
    "# set parameters for U_DCI\n",
    "config_udci = {\n",
    "    'dataset': 'wiki',              # name of dataset\n",
    "    'device': 0,                    # which gpu to use if any\n",
    "    'epochs': 50,                   # number of epochs in pre-training stage\n",
    "    'num_cluster': 2,               # number of clusters in pre-training stage\n",
    "    'recluster_interval': 10,       # recluster interval in pre-training stage\n",
    "    'finetune_epochs': 100,         # number of epochs in finetune stage\n",
    "    'num_folds': 10,                # number of folds in cross validation of finetune stage\n",
    "    'final_dropout': 0.5,           # dropout rate used in finetune stage\n",
    "    'lr': 0.01,                     # learning rate used in optimizer\n",
    "    'training_scheme': 'decoupled'  # 'decoupled' or 'joint'\n",
    "    \n",
    "}"
   ]
  },
  {
   "cell_type": "code",
   "execution_count": null,
   "metadata": {},
   "outputs": [],
   "source": [
    "# set hyperparameters for embedding module\n",
    "\n",
    "# U_GCN\n",
    "config_emb = {\n",
    "    'in_features': 64,      # number of initial feature dims, used in GraphAttention\n",
    "    'out_features': 16,     # number of feature dims generated by one attention head, used in GraphAttention\n",
    "    'alpha': 0.2,           # slope of leakyReLU, used in GraphAttention\n",
    "    'final_features': 16,   # number of feature dims integrated out of all attention heads, used in GraphAttention\n",
    "    'dropout': 0.6,         # customized dropout rate, used in GraphAttention & GAT\n",
    "    'nheads': 8,            # number of attetnion heads, used in GAT\n",
    "    'hidden_dim': 16,       # number of hidden dims, used in Discriminator\n",
    "}\n",
    "\n",
    "# GIN\n",
    "# confit_emb = {}"
   ]
  },
  {
   "cell_type": "code",
   "execution_count": null,
   "metadata": {},
   "outputs": [],
   "source": [
    "sig = torch.nn.Sigmoid()\n",
    "setup_seed(0)\n",
    "device = torch.device('cuda' if torch.cuda.is_available() else 'cpu')\n",
    "\n",
    "edge_index, feats, split_idx, label, nb_nodes = load_data(config_udci['dataset'], config_udci['num_folds'])\n",
    "input_dim = feats.shape[1]\n",
    "\n",
    "kmeans = KMeans(n_clusters=config_udci['num_cluster'], random_state=0).fit(feats)\n",
    "ss_label = kmeans.labels_\n",
    "cluster_info = [list(np.where(ss_label==i)[0]) for i in range(config_udci['num_cluster'])]\n",
    "\n",
    "idx = np.random.permutation(nb_nodes)\n",
    "shuf_feats = feats[idx, :]"
   ]
  },
  {
   "cell_type": "code",
   "execution_count": null,
   "metadata": {},
   "outputs": [],
   "source": []
  }
 ],
 "metadata": {
  "kernelspec": {
   "display_name": "Python 3.9.12 ('base')",
   "language": "python",
   "name": "python3"
  },
  "language_info": {
   "codemirror_mode": {
    "name": "ipython",
    "version": 3
   },
   "file_extension": ".py",
   "mimetype": "text/x-python",
   "name": "python",
   "nbconvert_exporter": "python",
   "pygments_lexer": "ipython3",
   "version": "3.9.12"
  },
  "orig_nbformat": 4,
  "vscode": {
   "interpreter": {
    "hash": "ad2bdc8ecc057115af97d19610ffacc2b4e99fae6737bb82f5d7fb13d2f2c186"
   }
  }
 },
 "nbformat": 4,
 "nbformat_minor": 2
}
